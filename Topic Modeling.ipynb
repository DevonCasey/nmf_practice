{
 "metadata": {
  "name": "",
  "signature": "sha256:75fdfe3e35ff2e2c1a744c63a56103776acf84c2325d4fdaef1486c1bc8f0fd7"
 },
 "nbformat": 3,
 "nbformat_minor": 0,
 "worksheets": [
  {
   "cells": [
    {
     "cell_type": "markdown",
     "metadata": {},
     "source": [
      "NMF (Non Negative Matrix Factorization\n",
      "=============================================\n",
      "\n",
      "\n",
      "\n",
      "\n",
      "Motivating Factors\n",
      "====================================\n",
      "\n",
      "\n",
      "\n",
      "\n",
      "\n",
      "Toy example\n",
      "====================================\n",
      "\n",
      "NMF is a form of matrix decomposition (think SVD) that takes an  m x n matrix (of all numbers being >= 0) and decomposes it down to  2 matrices W and H of dimensions m x r and r x n respectively where r is <= min(m,n).\n",
      "\n",
      "The property then holds that: \n",
      "\n",
      "W * H = V\n",
      "\n",
      "A quick example\n",
      "\n",
      "W =\n",
      "\n",
      "   0.91860   0.73835\n",
      "   0.26502   0.65643\n",
      "   0.93525   0.96078\n",
      "   0.48499   0.10956\n",
      "\n",
      "H =\n",
      "\n",
      "   0.780323   0.048058   0.460162   0.956932   0.935853   0.807745\n",
      "   0.531417   0.494166   0.627717   0.940814   0.685886   0.301090\n",
      "\n",
      "V = W * H = \n",
      "\n",
      "   0.248891   0.050057   0.170430   0.326982   0.302153   0.238898\n",
      "   0.401785   0.039895   0.247256   0.502213   0.483461   0.407730\n",
      "   0.935341   0.294726   0.713106   1.295608   1.146717   0.840256\n",
      "   0.794035   0.500370   0.775793   1.256624   0.999800   0.578318\n",
      "\n",
      "\n",
      "\n",
      "LDA\n",
      "=====================================\n",
      "\n",
      "Motivating Example\n",
      "======================================\n",
      "\n",
      "Toy Example\n",
      "=====================================\n",
      "\n",
      "\n"
     ]
    }
   ],
   "metadata": {}
  }
 ]
}