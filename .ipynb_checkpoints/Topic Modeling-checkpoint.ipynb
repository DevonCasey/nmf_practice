{
 "metadata": {
  "name": "",
  "signature": "sha256:e09e27a95ef774182e47b969b3c0570e8abd78d09b4e773e927703fd7ee7f5ca"
 },
 "nbformat": 3,
 "nbformat_minor": 0,
 "worksheets": []
}